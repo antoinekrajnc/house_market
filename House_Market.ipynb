{
 "cells": [
  {
   "cell_type": "code",
   "execution_count": 1,
   "metadata": {
    "collapsed": true
   },
   "outputs": [],
   "source": [
    "import pandas as pd"
   ]
  },
  {
   "cell_type": "code",
   "execution_count": 2,
   "metadata": {
    "collapsed": true
   },
   "outputs": [],
   "source": [
    "# Importez les trois datasets\n",
    "superficie = pd.read_csv(\"superficie.csv\")\n",
    "nb_de_sdb = pd.read_csv(\"nombre_de_sdb.csv\")\n",
    "nb_de_chambre = pd.read_csv(\"nombre_de_chambres.csv\")"
   ]
  },
  {
   "cell_type": "code",
   "execution_count": 3,
   "metadata": {},
   "outputs": [
    {
     "data": {
      "text/html": [
       "<div>\n",
       "<style scoped>\n",
       "    .dataframe tbody tr th:only-of-type {\n",
       "        vertical-align: middle;\n",
       "    }\n",
       "\n",
       "    .dataframe tbody tr th {\n",
       "        vertical-align: top;\n",
       "    }\n",
       "\n",
       "    .dataframe thead th {\n",
       "        text-align: right;\n",
       "    }\n",
       "</style>\n",
       "<table border=\"1\" class=\"dataframe\">\n",
       "  <thead>\n",
       "    <tr style=\"text-align: right;\">\n",
       "      <th></th>\n",
       "      <th>0</th>\n",
       "      <th>1</th>\n",
       "    </tr>\n",
       "  </thead>\n",
       "  <tbody>\n",
       "    <tr>\n",
       "      <th>0</th>\n",
       "      <td>1</td>\n",
       "      <td>4</td>\n",
       "    </tr>\n",
       "    <tr>\n",
       "      <th>1</th>\n",
       "      <td>2</td>\n",
       "      <td>1</td>\n",
       "    </tr>\n",
       "    <tr>\n",
       "      <th>2</th>\n",
       "      <td>3</td>\n",
       "      <td>4</td>\n",
       "    </tr>\n",
       "  </tbody>\n",
       "</table>\n",
       "</div>"
      ],
      "text/plain": [
       "   0  1\n",
       "0  1  4\n",
       "1  2  1\n",
       "2  3  4"
      ]
     },
     "execution_count": 3,
     "metadata": {},
     "output_type": "execute_result"
    }
   ],
   "source": [
    "nb_de_chambre.head(3)"
   ]
  },
  {
   "cell_type": "code",
   "execution_count": 4,
   "metadata": {
    "collapsed": true,
    "scrolled": true
   },
   "outputs": [],
   "source": [
    "# Donnez un nom de colonne à ces trois datasets\n",
    "superficie.columns = [\"id\", \"superficie\"]\n",
    "nb_de_sdb.columns = [\"id\", \"nb_de_sdb\"]\n",
    "nb_de_chambre.columns = [\"id\", \"nb_de_chambre\"]"
   ]
  },
  {
   "cell_type": "code",
   "execution_count": 6,
   "metadata": {},
   "outputs": [
    {
     "data": {
      "text/plain": [
       "'\\nautre solution :\\nnb_de_chambre.columns.values[0] = \"id\"\\nnb_de_chambre.columns.values[1] = \"nb_de_chambre\"\\n'"
      ]
     },
     "execution_count": 6,
     "metadata": {},
     "output_type": "execute_result"
    }
   ],
   "source": [
    "\"\"\"\n",
    "autre solution :\n",
    "nb_de_chambre.columns.values[0] = \"id\"\n",
    "nb_de_chambre.columns.values[1] = \"nb_de_chambre\"\n",
    "\"\"\""
   ]
  },
  {
   "cell_type": "code",
   "execution_count": 5,
   "metadata": {
    "collapsed": true
   },
   "outputs": [],
   "source": [
    "#Fusionner ces trois datasets un seul dataframe (on fera une fusion simplement par index) qu’on nommera dataset\n",
    "#étape intermédiare\n",
    "dataset_temp = pd.merge(superficie, nb_de_sdb, left_on = \"id\", right_on = \"id\", how=\"inner\")"
   ]
  },
  {
   "cell_type": "code",
   "execution_count": 6,
   "metadata": {
    "collapsed": true
   },
   "outputs": [],
   "source": [
    "#DONE\n",
    "dataset = pd.merge(dataset_temp, nb_de_chambre, left_on = \"id\", right_on = \"id\", how = \"inner\")\n",
    "\n",
    "####### Pas mal de le faire en deux fois, tu aurais pu aussi utiliser pd.concat pour ne pas avoir à le faire en deux étapes"
   ]
  },
  {
   "cell_type": "code",
   "execution_count": 7,
   "metadata": {},
   "outputs": [
    {
     "data": {
      "text/html": [
       "<div>\n",
       "<style scoped>\n",
       "    .dataframe tbody tr th:only-of-type {\n",
       "        vertical-align: middle;\n",
       "    }\n",
       "\n",
       "    .dataframe tbody tr th {\n",
       "        vertical-align: top;\n",
       "    }\n",
       "\n",
       "    .dataframe thead th {\n",
       "        text-align: right;\n",
       "    }\n",
       "</style>\n",
       "<table border=\"1\" class=\"dataframe\">\n",
       "  <thead>\n",
       "    <tr style=\"text-align: right;\">\n",
       "      <th></th>\n",
       "      <th>id</th>\n",
       "      <th>superficie</th>\n",
       "      <th>nb_de_sdb</th>\n",
       "      <th>nb_de_chambre</th>\n",
       "    </tr>\n",
       "  </thead>\n",
       "  <tbody>\n",
       "    <tr>\n",
       "      <th>0</th>\n",
       "      <td>1</td>\n",
       "      <td>27667</td>\n",
       "      <td>1</td>\n",
       "      <td>4</td>\n",
       "    </tr>\n",
       "    <tr>\n",
       "      <th>1</th>\n",
       "      <td>2</td>\n",
       "      <td>14742</td>\n",
       "      <td>1</td>\n",
       "      <td>1</td>\n",
       "    </tr>\n",
       "    <tr>\n",
       "      <th>2</th>\n",
       "      <td>3</td>\n",
       "      <td>28089</td>\n",
       "      <td>3</td>\n",
       "      <td>4</td>\n",
       "    </tr>\n",
       "    <tr>\n",
       "      <th>3</th>\n",
       "      <td>4</td>\n",
       "      <td>11713</td>\n",
       "      <td>1</td>\n",
       "      <td>2</td>\n",
       "    </tr>\n",
       "    <tr>\n",
       "      <th>4</th>\n",
       "      <td>5</td>\n",
       "      <td>28591</td>\n",
       "      <td>3</td>\n",
       "      <td>4</td>\n",
       "    </tr>\n",
       "  </tbody>\n",
       "</table>\n",
       "</div>"
      ],
      "text/plain": [
       "   id  superficie  nb_de_sdb  nb_de_chambre\n",
       "0   1       27667          1              4\n",
       "1   2       14742          1              1\n",
       "2   3       28089          3              4\n",
       "3   4       11713          1              2\n",
       "4   5       28591          3              4"
      ]
     },
     "execution_count": 7,
     "metadata": {},
     "output_type": "execute_result"
    }
   ],
   "source": [
    "dataset.head(5)"
   ]
  },
  {
   "cell_type": "code",
   "execution_count": 8,
   "metadata": {},
   "outputs": [
    {
     "data": {
      "text/plain": [
       "20354.88"
      ]
     },
     "execution_count": 8,
     "metadata": {},
     "output_type": "execute_result"
    }
   ],
   "source": [
    "# Quelle est la superficie moyenne des maisons de notre dataset\n",
    "round(dataset[\"superficie\"].mean(), 2)\n",
    "\n",
    "## Très bien pensé le round()"
   ]
  },
  {
   "cell_type": "code",
   "execution_count": 9,
   "metadata": {},
   "outputs": [
    {
     "name": "stdout",
     "output_type": "stream",
     "text": [
      "moyenne: 2.43\n",
      "médiane: 2.0\n"
     ]
    }
   ],
   "source": [
    "# Quelle est le nombre de chambre médian et moyenne\n",
    "print(\"moyenne: {}\".format(round(dataset[\"nb_de_chambre\"].mean(),2)))\n",
    "print(\"médiane: {}\".format(dataset[\"nb_de_chambre\"].median()))"
   ]
  },
  {
   "cell_type": "code",
   "execution_count": 10,
   "metadata": {
    "collapsed": true
   },
   "outputs": [],
   "source": [
    "#Nous un nouveau dataset “house_price.csv” que nous voudrions intégrer à notre dataset\n",
    "#Importez house_price.csv dans une variable qu’on nommera house_price\n",
    "house_price = pd.read_csv(\"house_price.csv\")"
   ]
  },
  {
   "cell_type": "code",
   "execution_count": 11,
   "metadata": {},
   "outputs": [
    {
     "data": {
      "text/html": [
       "<div>\n",
       "<style scoped>\n",
       "    .dataframe tbody tr th:only-of-type {\n",
       "        vertical-align: middle;\n",
       "    }\n",
       "\n",
       "    .dataframe tbody tr th {\n",
       "        vertical-align: top;\n",
       "    }\n",
       "\n",
       "    .dataframe thead th {\n",
       "        text-align: right;\n",
       "    }\n",
       "</style>\n",
       "<table border=\"1\" class=\"dataframe\">\n",
       "  <thead>\n",
       "    <tr style=\"text-align: right;\">\n",
       "      <th></th>\n",
       "      <th>Unnamed: 0</th>\n",
       "      <th>id</th>\n",
       "      <th>house_price</th>\n",
       "    </tr>\n",
       "  </thead>\n",
       "  <tbody>\n",
       "    <tr>\n",
       "      <th>32</th>\n",
       "      <td>32</td>\n",
       "      <td>0</td>\n",
       "      <td>1421908.0</td>\n",
       "    </tr>\n",
       "    <tr>\n",
       "      <th>71</th>\n",
       "      <td>71</td>\n",
       "      <td>1</td>\n",
       "      <td>1305091.0</td>\n",
       "    </tr>\n",
       "    <tr>\n",
       "      <th>65</th>\n",
       "      <td>65</td>\n",
       "      <td>2</td>\n",
       "      <td>164373.0</td>\n",
       "    </tr>\n",
       "  </tbody>\n",
       "</table>\n",
       "</div>"
      ],
      "text/plain": [
       "    Unnamed: 0  id  house_price\n",
       "32          32   0    1421908.0\n",
       "71          71   1    1305091.0\n",
       "65          65   2     164373.0"
      ]
     },
     "execution_count": 11,
     "metadata": {},
     "output_type": "execute_result"
    }
   ],
   "source": [
    "house_price.sort_values(by=\"id\", ascending=True).head(3)\n",
    "\n",
    "#### Pourquoi cette étape ? "
   ]
  },
  {
   "cell_type": "code",
   "execution_count": 12,
   "metadata": {
    "collapsed": true
   },
   "outputs": [],
   "source": [
    "# iii) Fusionnez house_price à dataset\n",
    "dataset = pd.merge(dataset, house_price, left_on = \"id\", right_on = \"id\", how = \"inner\")\n",
    "\n",
    "### Super !"
   ]
  },
  {
   "cell_type": "code",
   "execution_count": 2,
   "metadata": {},
   "outputs": [
    {
     "ename": "NameError",
     "evalue": "name 'dataset' is not defined",
     "output_type": "error",
     "traceback": [
      "\u001b[0;31m---------------------------------------------------------------------------\u001b[0m",
      "\u001b[0;31mNameError\u001b[0m                                 Traceback (most recent call last)",
      "\u001b[0;32m<ipython-input-2-56c0d8f04853>\u001b[0m in \u001b[0;36m<module>\u001b[0;34m()\u001b[0m\n\u001b[0;32m----> 1\u001b[0;31m \u001b[0mdataset\u001b[0m\u001b[0;34m.\u001b[0m\u001b[0mhead\u001b[0m\u001b[0;34m(\u001b[0m\u001b[0;36m5\u001b[0m\u001b[0;34m)\u001b[0m\u001b[0;34m\u001b[0m\u001b[0m\n\u001b[0m",
      "\u001b[0;31mNameError\u001b[0m: name 'dataset' is not defined"
     ]
    }
   ],
   "source": [
    "dataset.head(5)\n",
    "\n",
    "#### Ici, tu aurais pu aussi enlever la colonne 'Unnamed: 0' pour éviter de surcharger ton dataset "
   ]
  },
  {
   "cell_type": "code",
   "execution_count": null,
   "metadata": {},
   "outputs": [],
   "source": [
    "#Quel est le coût moyen d’une maison ?\n",
    "round(dataset[\"house_price\"].mean(), 2)"
   ]
  },
  {
   "cell_type": "code",
   "execution_count": 15,
   "metadata": {},
   "outputs": [
    {
     "data": {
      "text/html": [
       "<div>\n",
       "<style scoped>\n",
       "    .dataframe tbody tr th:only-of-type {\n",
       "        vertical-align: middle;\n",
       "    }\n",
       "\n",
       "    .dataframe tbody tr th {\n",
       "        vertical-align: top;\n",
       "    }\n",
       "\n",
       "    .dataframe thead th {\n",
       "        text-align: right;\n",
       "    }\n",
       "</style>\n",
       "<table border=\"1\" class=\"dataframe\">\n",
       "  <thead>\n",
       "    <tr style=\"text-align: right;\">\n",
       "      <th></th>\n",
       "      <th>house_price</th>\n",
       "    </tr>\n",
       "    <tr>\n",
       "      <th>nb_de_chambre</th>\n",
       "      <th></th>\n",
       "    </tr>\n",
       "  </thead>\n",
       "  <tbody>\n",
       "    <tr>\n",
       "      <th>1</th>\n",
       "      <td>960723.363636</td>\n",
       "    </tr>\n",
       "    <tr>\n",
       "      <th>2</th>\n",
       "      <td>642086.258065</td>\n",
       "    </tr>\n",
       "    <tr>\n",
       "      <th>3</th>\n",
       "      <td>645904.592593</td>\n",
       "    </tr>\n",
       "    <tr>\n",
       "      <th>4</th>\n",
       "      <td>888045.631579</td>\n",
       "    </tr>\n",
       "  </tbody>\n",
       "</table>\n",
       "</div>"
      ],
      "text/plain": [
       "                 house_price\n",
       "nb_de_chambre               \n",
       "1              960723.363636\n",
       "2              642086.258065\n",
       "3              645904.592593\n",
       "4              888045.631579"
      ]
     },
     "execution_count": 15,
     "metadata": {},
     "output_type": "execute_result"
    }
   ],
   "source": [
    "# Quel est le coût moyen par chambre\n",
    "dataset.loc[:,[\"nb_de_chambre\", \"house_price\"]].groupby([\"nb_de_chambre\"]).mean()\n",
    "\n",
    "\n",
    "#### YES, Bravo pour avoir trouvé le groupby, très bonne utilisation"
   ]
  },
  {
   "cell_type": "code",
   "execution_count": 16,
   "metadata": {
    "collapsed": true
   },
   "outputs": [],
   "source": [
    "#Tentons de faire des catégories de superficie\n",
    "# i) Créez une nouvelle colonne dans votre dataset qu’on appellera taille_maison\n",
    "dataset[\"taille_maison\"] = None"
   ]
  },
  {
   "cell_type": "code",
   "execution_count": 17,
   "metadata": {},
   "outputs": [
    {
     "data": {
      "text/html": [
       "<div>\n",
       "<style scoped>\n",
       "    .dataframe tbody tr th:only-of-type {\n",
       "        vertical-align: middle;\n",
       "    }\n",
       "\n",
       "    .dataframe tbody tr th {\n",
       "        vertical-align: top;\n",
       "    }\n",
       "\n",
       "    .dataframe thead th {\n",
       "        text-align: right;\n",
       "    }\n",
       "</style>\n",
       "<table border=\"1\" class=\"dataframe\">\n",
       "  <thead>\n",
       "    <tr style=\"text-align: right;\">\n",
       "      <th></th>\n",
       "      <th>id</th>\n",
       "      <th>superficie</th>\n",
       "      <th>nb_de_sdb</th>\n",
       "      <th>nb_de_chambre</th>\n",
       "      <th>Unnamed: 0</th>\n",
       "      <th>house_price</th>\n",
       "      <th>taille_maison</th>\n",
       "    </tr>\n",
       "  </thead>\n",
       "  <tbody>\n",
       "    <tr>\n",
       "      <th>0</th>\n",
       "      <td>1</td>\n",
       "      <td>27667</td>\n",
       "      <td>1</td>\n",
       "      <td>4</td>\n",
       "      <td>71</td>\n",
       "      <td>1305091.0</td>\n",
       "      <td>None</td>\n",
       "    </tr>\n",
       "    <tr>\n",
       "      <th>1</th>\n",
       "      <td>2</td>\n",
       "      <td>14742</td>\n",
       "      <td>1</td>\n",
       "      <td>1</td>\n",
       "      <td>65</td>\n",
       "      <td>164373.0</td>\n",
       "      <td>None</td>\n",
       "    </tr>\n",
       "    <tr>\n",
       "      <th>2</th>\n",
       "      <td>3</td>\n",
       "      <td>28089</td>\n",
       "      <td>3</td>\n",
       "      <td>4</td>\n",
       "      <td>88</td>\n",
       "      <td>1441714.0</td>\n",
       "      <td>None</td>\n",
       "    </tr>\n",
       "  </tbody>\n",
       "</table>\n",
       "</div>"
      ],
      "text/plain": [
       "   id  superficie  nb_de_sdb  nb_de_chambre  Unnamed: 0  house_price  \\\n",
       "0   1       27667          1              4          71    1305091.0   \n",
       "1   2       14742          1              1          65     164373.0   \n",
       "2   3       28089          3              4          88    1441714.0   \n",
       "\n",
       "  taille_maison  \n",
       "0          None  \n",
       "1          None  \n",
       "2          None  "
      ]
     },
     "execution_count": 17,
     "metadata": {},
     "output_type": "execute_result"
    }
   ],
   "source": [
    "dataset.head(3)"
   ]
  },
  {
   "cell_type": "code",
   "execution_count": 18,
   "metadata": {
    "collapsed": true
   },
   "outputs": [],
   "source": [
    "# Créez des catégories “très grande” / “grande” / “moyenne” / “petite” / “très petite”\n",
    "dataset2 = dataset[dataset[\"superficie\"] > 25000].fillna(value = \"Très grande\")\n",
    "dataset2 = dataset2.append(dataset.query(\"superficie > 20000 and superficie <= 25000\").fillna(value = \"Grande\"))\n",
    "dataset2 = dataset2.append(dataset.query(\"superficie > 15000 and superficie <= 20000\").fillna(value = \"Moyenne\"))\n",
    "dataset2 = dataset2.append(dataset.query(\"superficie > 10000 and superficie <= 15000\").fillna(value = \"Petite\"))\n",
    "dataset2 = dataset2.append(dataset.query(\"superficie <= 10000\").fillna(value = \"Très petite\"))\n",
    "\n",
    "### Pas mal pensé aussi ! Un autre moyen est d'utiliser une boucle si tu veux. "
   ]
  },
  {
   "cell_type": "code",
   "execution_count": 20,
   "metadata": {},
   "outputs": [
    {
     "data": {
      "text/html": [
       "<div>\n",
       "<style scoped>\n",
       "    .dataframe tbody tr th:only-of-type {\n",
       "        vertical-align: middle;\n",
       "    }\n",
       "\n",
       "    .dataframe tbody tr th {\n",
       "        vertical-align: top;\n",
       "    }\n",
       "\n",
       "    .dataframe thead th {\n",
       "        text-align: right;\n",
       "    }\n",
       "</style>\n",
       "<table border=\"1\" class=\"dataframe\">\n",
       "  <thead>\n",
       "    <tr style=\"text-align: right;\">\n",
       "      <th></th>\n",
       "      <th>id</th>\n",
       "      <th>superficie</th>\n",
       "      <th>nb_de_sdb</th>\n",
       "      <th>nb_de_chambre</th>\n",
       "      <th>Unnamed: 0</th>\n",
       "      <th>house_price</th>\n",
       "      <th>taille_maison</th>\n",
       "    </tr>\n",
       "  </thead>\n",
       "  <tbody>\n",
       "    <tr>\n",
       "      <th>0</th>\n",
       "      <td>1</td>\n",
       "      <td>27667</td>\n",
       "      <td>1</td>\n",
       "      <td>4</td>\n",
       "      <td>71</td>\n",
       "      <td>1305091.0</td>\n",
       "      <td>Très grande</td>\n",
       "    </tr>\n",
       "    <tr>\n",
       "      <th>1</th>\n",
       "      <td>2</td>\n",
       "      <td>14742</td>\n",
       "      <td>1</td>\n",
       "      <td>1</td>\n",
       "      <td>65</td>\n",
       "      <td>164373.0</td>\n",
       "      <td>Petite</td>\n",
       "    </tr>\n",
       "    <tr>\n",
       "      <th>2</th>\n",
       "      <td>3</td>\n",
       "      <td>28089</td>\n",
       "      <td>3</td>\n",
       "      <td>4</td>\n",
       "      <td>88</td>\n",
       "      <td>1441714.0</td>\n",
       "      <td>Très grande</td>\n",
       "    </tr>\n",
       "    <tr>\n",
       "      <th>3</th>\n",
       "      <td>4</td>\n",
       "      <td>11713</td>\n",
       "      <td>1</td>\n",
       "      <td>2</td>\n",
       "      <td>49</td>\n",
       "      <td>108290.0</td>\n",
       "      <td>Petite</td>\n",
       "    </tr>\n",
       "    <tr>\n",
       "      <th>4</th>\n",
       "      <td>5</td>\n",
       "      <td>28591</td>\n",
       "      <td>3</td>\n",
       "      <td>4</td>\n",
       "      <td>33</td>\n",
       "      <td>1703033.0</td>\n",
       "      <td>Très grande</td>\n",
       "    </tr>\n",
       "    <tr>\n",
       "      <th>5</th>\n",
       "      <td>6</td>\n",
       "      <td>17385</td>\n",
       "      <td>3</td>\n",
       "      <td>3</td>\n",
       "      <td>54</td>\n",
       "      <td>340284.0</td>\n",
       "      <td>Moyenne</td>\n",
       "    </tr>\n",
       "    <tr>\n",
       "      <th>6</th>\n",
       "      <td>7</td>\n",
       "      <td>26197</td>\n",
       "      <td>2</td>\n",
       "      <td>3</td>\n",
       "      <td>42</td>\n",
       "      <td>1236645.0</td>\n",
       "      <td>Très grande</td>\n",
       "    </tr>\n",
       "    <tr>\n",
       "      <th>7</th>\n",
       "      <td>8</td>\n",
       "      <td>17611</td>\n",
       "      <td>2</td>\n",
       "      <td>3</td>\n",
       "      <td>20</td>\n",
       "      <td>257405.0</td>\n",
       "      <td>Moyenne</td>\n",
       "    </tr>\n",
       "    <tr>\n",
       "      <th>8</th>\n",
       "      <td>9</td>\n",
       "      <td>12841</td>\n",
       "      <td>3</td>\n",
       "      <td>3</td>\n",
       "      <td>99</td>\n",
       "      <td>157433.0</td>\n",
       "      <td>Petite</td>\n",
       "    </tr>\n",
       "    <tr>\n",
       "      <th>9</th>\n",
       "      <td>10</td>\n",
       "      <td>25063</td>\n",
       "      <td>2</td>\n",
       "      <td>3</td>\n",
       "      <td>78</td>\n",
       "      <td>1697584.0</td>\n",
       "      <td>Très grande</td>\n",
       "    </tr>\n",
       "  </tbody>\n",
       "</table>\n",
       "</div>"
      ],
      "text/plain": [
       "   id  superficie  nb_de_sdb  nb_de_chambre  Unnamed: 0  house_price  \\\n",
       "0   1       27667          1              4          71    1305091.0   \n",
       "1   2       14742          1              1          65     164373.0   \n",
       "2   3       28089          3              4          88    1441714.0   \n",
       "3   4       11713          1              2          49     108290.0   \n",
       "4   5       28591          3              4          33    1703033.0   \n",
       "5   6       17385          3              3          54     340284.0   \n",
       "6   7       26197          2              3          42    1236645.0   \n",
       "7   8       17611          2              3          20     257405.0   \n",
       "8   9       12841          3              3          99     157433.0   \n",
       "9  10       25063          2              3          78    1697584.0   \n",
       "\n",
       "  taille_maison  \n",
       "0   Très grande  \n",
       "1        Petite  \n",
       "2   Très grande  \n",
       "3        Petite  \n",
       "4   Très grande  \n",
       "5       Moyenne  \n",
       "6   Très grande  \n",
       "7       Moyenne  \n",
       "8        Petite  \n",
       "9   Très grande  "
      ]
     },
     "execution_count": 20,
     "metadata": {},
     "output_type": "execute_result"
    }
   ],
   "source": [
    "dataset2.sort_values(by=\"id\", ascending=True).head(10)"
   ]
  },
  {
   "cell_type": "code",
   "execution_count": 23,
   "metadata": {},
   "outputs": [
    {
     "data": {
      "text/html": [
       "<div>\n",
       "<style scoped>\n",
       "    .dataframe tbody tr th:only-of-type {\n",
       "        vertical-align: middle;\n",
       "    }\n",
       "\n",
       "    .dataframe tbody tr th {\n",
       "        vertical-align: top;\n",
       "    }\n",
       "\n",
       "    .dataframe thead th {\n",
       "        text-align: right;\n",
       "    }\n",
       "</style>\n",
       "<table border=\"1\" class=\"dataframe\">\n",
       "  <thead>\n",
       "    <tr style=\"text-align: right;\">\n",
       "      <th></th>\n",
       "      <th>house_price</th>\n",
       "    </tr>\n",
       "    <tr>\n",
       "      <th>taille_maison</th>\n",
       "      <th></th>\n",
       "    </tr>\n",
       "  </thead>\n",
       "  <tbody>\n",
       "    <tr>\n",
       "      <th>Grande</th>\n",
       "      <td>732538.52</td>\n",
       "    </tr>\n",
       "    <tr>\n",
       "      <th>Moyenne</th>\n",
       "      <td>325694.79</td>\n",
       "    </tr>\n",
       "    <tr>\n",
       "      <th>Petite</th>\n",
       "      <td>156138.69</td>\n",
       "    </tr>\n",
       "    <tr>\n",
       "      <th>Très grande</th>\n",
       "      <td>1556667.29</td>\n",
       "    </tr>\n",
       "  </tbody>\n",
       "</table>\n",
       "</div>"
      ],
      "text/plain": [
       "               house_price\n",
       "taille_maison             \n",
       "Grande           732538.52\n",
       "Moyenne          325694.79\n",
       "Petite           156138.69\n",
       "Très grande     1556667.29"
      ]
     },
     "execution_count": 23,
     "metadata": {},
     "output_type": "execute_result"
    }
   ],
   "source": [
    "# 11) Quel est le coût moyen d’une maison en fonction de sa catégorie de superficie ?\n",
    "round(dataset2.loc[:,[\"taille_maison\", \"house_price\"]].groupby([\"taille_maison\"]).mean(),2)"
   ]
  },
  {
   "cell_type": "code",
   "execution_count": 27,
   "metadata": {},
   "outputs": [
    {
     "name": "stderr",
     "output_type": "stream",
     "text": [
      "C:\\Users\\Mathieu\\Anaconda3\\lib\\site-packages\\scipy\\stats\\stats.py:1713: FutureWarning: Using a non-tuple sequence for multidimensional indexing is deprecated; use `arr[tuple(seq)]` instead of `arr[seq]`. In the future this will be interpreted as an array index, `arr[np.array(seq)]`, which will result either in an error or a different result.\n",
      "  return np.add.reduce(sorted[indexer] * weights, axis=axis) / sumval\n"
     ]
    },
    {
     "data": {
      "text/plain": [
       "<seaborn.axisgrid.FacetGrid at 0x17e47f28ef0>"
      ]
     },
     "execution_count": 27,
     "metadata": {},
     "output_type": "execute_result"
    },
    {
     "data": {
      "image/png": "[encoded data removed]",
      "text/plain": [
       "<Figure size 360x360 with 1 Axes>"
      ]
     },
     "metadata": {
      "needs_background": "light"
     },
     "output_type": "display_data"
    }
   ],
   "source": [
    "# 12) Appliquez le code ci-dessous pour visualiser votre résultat. Que pouvez vous conclure ?\n",
    "import seaborn as sns\n",
    "sns.lmplot(x = \"superficie\", y=\"house_price\", data = dataset2)\n",
    "\n",
    "# =>> Plus la maison est grande, plus son prix augmente"
   ]
  },
  {
   "cell_type": "code",
   "execution_count": null,
   "metadata": {
    "collapsed": true
   },
   "outputs": [],
   "source": []
  }
 ],
 "metadata": {
  "kernelspec": {
   "display_name": "Python 3",
   "language": "python",
   "name": "python3"
  },
  "language_info": {
   "codemirror_mode": {
    "name": "ipython",
    "version": 3
   },
   "file_extension": ".py",
   "mimetype": "text/x-python",
   "name": "python",
   "nbconvert_exporter": "python",
   "pygments_lexer": "ipython3",
   "version": "3.6.3"
  }
 },
 "nbformat": 4,
 "nbformat_minor": 2
}
